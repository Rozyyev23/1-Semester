{
 "cells": [
  {
   "cell_type": "markdown",
   "metadata": {},
   "source": [
    "1)Функция принимает два кортежа из двух элементов – координаты точек. Вывести уравнение прямой, проходящей через заданные точки. Функция должна вызывать ошибку, если переданные данные в нее некорректны (кортежи имеют не 2 элемента, типы данных не float и не integer)"
   ]
  },
  {
   "cell_type": "code",
   "execution_count": 3,
   "metadata": {},
   "outputs": [],
   "source": [
    "def line(point1,point2):\n",
    "    assert isinstance(point1, tuple) and isinstance(point2,tuple), \"Неверный тип данных\"\n",
    "    assert len(point1) == 2 and len(point2) == 2, \"Кортеж должен иметь 2 элемента\"\n",
    "    \n",
    "    for i in point1:\n",
    "        if not(isinstance(i,float) or isinstance(i,int)):\n",
    "            raise TypeError(\"Некорректный тип данных в первом кортеже\")\n",
    "    for i in point2:\n",
    "        if not(isinstance(i,float) or isinstance(i,int)):\n",
    "            raise TypeError(\"Некорректный тип данных в первом кортеже\")\n",
    "    x1 = point1[0]\n",
    "    y1 = point1[1]\n",
    "    x2 = point2[0]\n",
    "    y2 = point2[1]\n",
    "    ky = x1 - x2\n",
    "    kx = y1 - y2\n",
    "    b = x1*y2 - x2*y1\n",
    "    if b>0:\n",
    "        return f'{ky}y = {kx}x + {b}'\n",
    "    else:\n",
    "        return f'{ky}y = {kx}x - {-b}'"
   ]
  },
  {
   "cell_type": "code",
   "execution_count": 5,
   "metadata": {},
   "outputs": [
    {
     "data": {
      "text/plain": [
       "'121y = -1x + 1706'"
      ]
     },
     "execution_count": 5,
     "metadata": {},
     "output_type": "execute_result"
    }
   ],
   "source": [
    "line((133,13), (12,14))"
   ]
  },
  {
   "cell_type": "markdown",
   "metadata": {},
   "source": [
    "2)Реализовать функцию, которая вычисляет, сколько придется платить в месяц по кредиту и сколько всего отдать денег банку за весь период. Функция принимает обязательные аргументы p, n и необязательный параметр Boolean и необязательные параметры m, s. Если необязательный параметр Boolean равен True, то функция возвращает ежемесячный платеж и обязательно принимает параметр s, иначе возвращает всю сумму и обязательно принимает параметр m. Если данные параметры не передаются, вызывать ошибку. Функция должна иметь обработчик ошибок.Месячная выплата по займу вычисляется по такой загадочной формуле:\n",
    "m = (s * p * (1 + p)^n) / (12 * ((1 + p)^n – 1))\n",
    "В этой формуле:\n",
    "m - размер месячного платежа;\n",
    "s - сумма займа (кредита);\n",
    "p - процент банка, выраженный в долях единицы (т. е. если 20%, будет 0.2).\n",
    "n - количество лет, на которые берется кредит."
   ]
  },
  {
   "cell_type": "code",
   "execution_count": 21,
   "metadata": {},
   "outputs": [
    {
     "name": "stdout",
     "output_type": "stream",
     "text": [
      "Сколько денег вы хотите взять в займ 100\n",
      "Процентная ставка 1\n",
      "Количество лет, на которые берется кредит2\n",
      "Ваш размер месяного платежа $102.13\n"
     ]
    }
   ],
   "source": [
    "m = 0\n",
    "loan2 = 0\n",
    "int1 = 0\n",
    "numberOfPayments = 0\n",
    "loan1 = 0\n",
    "s = input(\"Сколько денег вы хотите взять в займ \")\n",
    "p = input(\"Процентная ставка \")\n",
    "n = input(\"Количество лет, на которые берется кредит\" )\n",
    "loan1 = float(n)\n",
    "loan2 = float(s)\n",
    "int1 = float(p)\n",
    "numberOfPayments = loan1*12\n",
    "m = loan2 * int1 * (1+ int1) * numberOfPayments / ((1 + int1) * numberOfPayments -1)\n",
    "                                                   \n",
    "print(\"Ваш размер месяного платежа $%.2f\" % m) "
   ]
  },
  {
   "cell_type": "markdown",
   "metadata": {},
   "source": [
    "3)Даны два списка и необходимо найти их совпадающие элементы, то есть область пересечения списков - элементы, которые присутствуют в обоих списках. Дополнительно: реализовать при помощи генератора. Дополнительно2: реализовать при помощи анонимной функции"
   ]
  },
  {
   "cell_type": "code",
   "execution_count": 24,
   "metadata": {},
   "outputs": [
    {
     "name": "stdout",
     "output_type": "stream",
     "text": [
      "[4, 3]\n"
     ]
    }
   ],
   "source": [
    "a = [5,  2, 'r', 4, 'afjfbjdfmnsm,', 'bhnvmk,dl.','ngmfd,d;c', 1, 3, 8]\n",
    "b = [45, ';lkjhgf', 'ee', 3, 3423423, 4]\n",
    "c = []\n",
    "for i1 in a:\n",
    "    if i1 in c:\n",
    "        continue\n",
    "    for j in b:\n",
    "        if i1 == j:\n",
    "            c.append(i1)\n",
    "            break\n",
    "\n",
    "print(c)"
   ]
  },
  {
   "cell_type": "code",
   "execution_count": 89,
   "metadata": {},
   "outputs": [
    {
     "name": "stdout",
     "output_type": "stream",
     "text": [
      "[9, 8, 7, 6, 5, 4, 3, 2, 'a']\n"
     ]
    }
   ],
   "source": [
    "A = [9,8,7,6,5,4,3,2,'a']\n",
    "B = [9,8,7,6,5,4,3,2,'a']\n",
    "C = sorted(set(A).intersection(B) ,key=lambda x:A.index(x))\n",
    "print(C)"
   ]
  },
  {
   "cell_type": "markdown",
   "metadata": {},
   "source": [
    "4)Отсортировать слова в строке по возрастанию их длины. Реализовать при помощи лямбда функции"
   ]
  },
  {
   "cell_type": "code",
   "execution_count": 98,
   "metadata": {},
   "outputs": [
    {
     "name": "stdout",
     "output_type": "stream",
     "text": [
      "222 33 1313131\n",
      "['33', '222', '1313131']\n"
     ]
    }
   ],
   "source": [
    "i1 = input()\n",
    "userList = i1.split()\n",
    "userList.sort(key=len)\n",
    "print(userList)"
   ]
  },
  {
   "cell_type": "markdown",
   "metadata": {},
   "source": [
    "5)Посчитать количество одинаковых элементов в списке. Результатом является словарь. Реализовать при помощи анонимной функции."
   ]
  },
  {
   "cell_type": "code",
   "execution_count": 13,
   "metadata": {},
   "outputs": [
    {
     "name": "stdout",
     "output_type": "stream",
     "text": [
      "john john John\n"
     ]
    },
    {
     "data": {
      "text/plain": [
       "{'john': 2}"
      ]
     },
     "execution_count": 13,
     "metadata": {},
     "output_type": "execute_result"
    }
   ],
   "source": [
    "i2 = input()\n",
    "spisok = i2.split()\n",
    "dict((x, spisok.count(x)) for x in set(spisok) if spisok.count(x) > 1)"
   ]
  },
  {
   "cell_type": "code",
   "execution_count": null,
   "metadata": {},
   "outputs": [],
   "source": []
  }
 ],
 "metadata": {
  "kernelspec": {
   "display_name": "Python 3",
   "language": "python",
   "name": "python3"
  },
  "language_info": {
   "codemirror_mode": {
    "name": "ipython",
    "version": 3
   },
   "file_extension": ".py",
   "mimetype": "text/x-python",
   "name": "python",
   "nbconvert_exporter": "python",
   "pygments_lexer": "ipython3",
   "version": "3.8.3"
  }
 },
 "nbformat": 4,
 "nbformat_minor": 4
}
