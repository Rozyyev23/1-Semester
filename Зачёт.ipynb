{
 "cells": [
  {
   "cell_type": "markdown",
   "metadata": {},
   "source": [
    "Реализовать анонимную функцию: Создать список, в котором все отрицательные числа исходного списка заменены на их номер в списке, остальные элементы сохранены на своих местах."
   ]
  },
  {
   "cell_type": "code",
   "execution_count": 33,
   "metadata": {},
   "outputs": [
    {
     "name": "stdout",
     "output_type": "stream",
     "text": [
      "[2, 4, -2, -3, 0, 11, 3, -1]\n",
      "[2, 4, 2, 3, 0, 11, 3, 1]\n",
      "[(0, 2), (1, 4), (2, 2), (3, 3), (4, 0), (5, 11), (6, 3), (7, 1)]\n"
     ]
    }
   ],
   "source": [
    "def back(first, second): return first * -second\n",
    "list_o= [2, 4, -2, -3, 0 , 11 , 3, -1]\n",
    "list_m= []\n",
    "for item in list_o:\n",
    "    if item> 0:\n",
    "        list_m.append(item)\n",
    "    elif item< 0:\n",
    "        list_m.append(back(item, 1))\n",
    "    else:\n",
    "        list_m.append(item)\n",
    "sort_data = [(i,x) for i,x in enumerate(list_m)]\n",
    "print(list_o)\n",
    "print(list_m)\n",
    "print(sort_data)"
   ]
  },
  {
   "cell_type": "markdown",
   "metadata": {},
   "source": [
    "Вариант 1.\n",
    "Реализовать функцию, которая принимает один параметр – наименование книги. По наименованию книги необходимо вернуть словарь вида {“Наименование книги”: “Оно”, “Автор”: “Стивен Кинг”, “список магазинов”: [“Бутырская”, “Щербаковская”]. Try-except Обязателен.\n"
   ]
  },
  {
   "cell_type": "code",
   "execution_count": null,
   "metadata": {},
   "outputs": [],
   "source": []
  }
 ],
 "metadata": {
  "kernelspec": {
   "display_name": "Python 3",
   "language": "python",
   "name": "python3"
  },
  "language_info": {
   "codemirror_mode": {
    "name": "ipython",
    "version": 3
   },
   "file_extension": ".py",
   "mimetype": "text/x-python",
   "name": "python",
   "nbconvert_exporter": "python",
   "pygments_lexer": "ipython3",
   "version": "3.8.3"
  }
 },
 "nbformat": 4,
 "nbformat_minor": 4
}
