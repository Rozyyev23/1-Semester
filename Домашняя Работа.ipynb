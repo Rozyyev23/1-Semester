{
 "cells": [
  {
   "cell_type": "markdown",
   "metadata": {},
   "source": [
    "# Регулярные выражения. Задания"
   ]
  },
  {
   "cell_type": "code",
   "execution_count": 10,
   "metadata": {},
   "outputs": [],
   "source": [
    "import re"
   ]
  },
  {
   "cell_type": "markdown",
   "metadata": {},
   "source": [
    "1) Дана строка 'aaa--bbb==ccc__ddd'. Написать регулярное выражение для разбивки строки на список ['aaa','bbb','ccc','ddd']."
   ]
  },
  {
   "cell_type": "code",
   "execution_count": 15,
   "metadata": {},
   "outputs": [
    {
     "name": "stdout",
     "output_type": "stream",
     "text": [
      "['aaa', 'bbb', 'ccc', 'ddd']\n"
     ]
    }
   ],
   "source": [
    "result = re.split(r'\\--|==|__', r'aaa--bbb==ccc__ddd')\n",
    "print(result)"
   ]
  },
  {
   "cell_type": "markdown",
   "metadata": {},
   "source": [
    "2) Получить первое слово из произвольной строки. Например, для 'Yesterday, All my troubles seemed so far away' должно возвращаться 'Yesterday'."
   ]
  },
  {
   "cell_type": "code",
   "execution_count": 34,
   "metadata": {},
   "outputs": [
    {
     "data": {
      "text/plain": [
       "'Yesterday'"
      ]
     },
     "execution_count": 34,
     "metadata": {},
     "output_type": "execute_result"
    }
   ],
   "source": [
    "s = 'Yesterday! All my troubles seemed so far away'\n",
    "a=re.compile(r'^[a-zA-Z]+\\b')\n",
    "a.match(s).group()"
   ]
  },
  {
   "cell_type": "markdown",
   "metadata": {},
   "source": [
    "3) Получить последнее слово из произвольной строки."
   ]
  },
  {
   "cell_type": "code",
   "execution_count": 35,
   "metadata": {},
   "outputs": [
    {
     "data": {
      "text/plain": [
       "'away'"
      ]
     },
     "execution_count": 35,
     "metadata": {},
     "output_type": "execute_result"
    }
   ],
   "source": [
    "a= re.compile(r'[a-zA-Z]+$')\n",
    "a.search(s).group()"
   ]
  },
  {
   "cell_type": "markdown",
   "metadata": {},
   "source": [
    "4) В следующем отрывке найти все слова, которые начинаются на гласную букву:"
   ]
  },
  {
   "cell_type": "code",
   "execution_count": 101,
   "metadata": {},
   "outputs": [],
   "source": [
    "s1= '''My uncle -- high ideals inspire him;\n",
    "but when past joking he fell sick,\n",
    "he really forced one to admire him --\n",
    "and never played a shrewder trick.\n",
    "Let others learn from his example!\n",
    "But God, how deadly dull to sample\n",
    "sickroom attendance night and day\n",
    "and never stir a foot away!'''"
   ]
  },
  {
   "cell_type": "code",
   "execution_count": 248,
   "metadata": {
    "scrolled": true
   },
   "outputs": [
    {
     "name": "stdout",
     "output_type": "stream",
     "text": [
      "[('als', 'als', '', '', '', '', '', ''), ('ire', '', 'ire', '', '', '', '', ''), ('ne', '', '', '', '', 'ne', '', ''), ('ire', '', 'ire', '', '', '', '', ''), ('nd', '', '', '', '', '', '', 'nd'), ('rs', '', '', '', '', '', 'rs', ''), ('xample', '', '', 'xample', '', '', '', ''), ('nce', '', '', '', 'nce', '', '', ''), ('nd', '', '', '', '', '', '', 'nd'), ('nd', '', '', '', '', '', '', 'nd')]\n",
      "[('ideals', 'als', 'als', '', '', '', '', '', ''), ('inspire', 'ire', '', 'ire', '', '', '', '', ''), ('one', 'ne', '', '', '', '', 'ne', '', ''), ('admire', 'ire', '', 'ire', '', '', '', '', ''), ('and', 'nd', '', '', '', '', '', '', 'nd'), ('others', 'rs', '', '', '', '', '', 'rs', ''), ('example', 'xample', '', '', 'xample', '', '', '', ''), ('attendance', 'nce', '', '', '', 'nce', '', '', ''), ('and', 'nd', '', '', '', '', '', '', 'nd'), ('and', 'nd', '', '', '', '', '', '', 'nd')]\n"
     ]
    },
    {
     "data": {
      "text/plain": [
       "['ideals',\n",
       " 'inspire',\n",
       " 'one',\n",
       " 'admire',\n",
       " 'and',\n",
       " 'others',\n",
       " 'example',\n",
       " 'attendance',\n",
       " 'and',\n",
       " 'and']"
      ]
     },
     "execution_count": 248,
     "metadata": {},
     "output_type": "execute_result"
    }
   ],
   "source": [
    "p=re.compile(r'[a-z]+((als)|(ire)|(xample)|(nce)|(ne)|(rs)|(nd))') \n",
    "print(p.findall(s1))\n",
    "\n",
    "p=re.compile(r'([a-z]+((als)|(ire)|(xample)|(nce)|(ne)|(rs)|(nd)))')\n",
    "print(p.findall(s1))\n",
    "\n",
    "p=re.compile(r'([a-z]+(?:(?:als)|(?:ire)|(?:xample)|(?:nce)|(?:ne)|(?:rs)|(?:nd)))')\n",
    "p.findall(s1)"
   ]
  },
  {
   "cell_type": "code",
   "execution_count": 412,
   "metadata": {},
   "outputs": [
    {
     "name": "stdout",
     "output_type": "stream",
     "text": [
      "['admire', 'and', 'a', 'attendance', 'and', 'and', 'a', 'away']\n",
      "['example']\n",
      "['one', 'others']\n",
      "['ideals', 'inspire']\n",
      "['uncle']\n"
     ]
    }
   ],
   "source": [
    "r1 = re.findall(r\"\\ba\\w*\\b\",s1)\n",
    "print(r1)\n",
    "r2 = re.findall(r\"\\be\\w*\\b\",s1)\n",
    "print(r2)\n",
    "r3 = re.findall(r\"\\bo\\w*\\b\",s1)\n",
    "print(r3)\n",
    "r4 = re.findall(r\"\\bi\\w*\\b\",s1)\n",
    "print(r4)\n",
    "r5 = re.findall(r\"\\bu\\w*\\b\",s1)\n",
    "print(r5)"
   ]
  },
  {
   "cell_type": "markdown",
   "metadata": {},
   "source": [
    "5) В этом же отрывке найти первое слово каждой строки"
   ]
  },
  {
   "cell_type": "code",
   "execution_count": 246,
   "metadata": {},
   "outputs": [
    {
     "name": "stdout",
     "output_type": "stream",
     "text": [
      "['My ', 'but ', 'he ', 'and ', 'Let ', 'But ', 'sickroom ', 'and ']\n"
     ]
    }
   ],
   "source": [
    "search = re.compile(r'^\\w+\\s',re.MULTILINE) \n",
    "print(search.findall(s1))"
   ]
  },
  {
   "cell_type": "markdown",
   "metadata": {},
   "source": [
    "6) Проверить корректность введенного E-mail"
   ]
  },
  {
   "cell_type": "code",
   "execution_count": 196,
   "metadata": {},
   "outputs": [
    {
     "name": "stdout",
     "output_type": "stream",
     "text": [
      "Введите ваш e-mail: aaw@gmail.com\n",
      "Правильный e-mail! ( aaw@gmail.com )\n"
     ]
    }
   ],
   "source": [
    "def checker():\n",
    "    u= re.compile('(^|\\s)[-a-z0-9.]+@([-a-z0-9]+.)+[a-z]{2,6}(\\s|$)')\n",
    "    j= input('Введите ваш e-mail: ')\n",
    "    error= u.match(j)\n",
    "    if error:\n",
    "        print('Правильный e-mail! (', error.group() ,')')\n",
    "    else:\n",
    "        print('Неверный email!')\n",
    "checker()"
   ]
  },
  {
   "cell_type": "markdown",
   "metadata": {},
   "source": [
    "7) В следующей строке найти все email-адреса и вывести только доменные имена"
   ]
  },
  {
   "cell_type": "code",
   "execution_count": 192,
   "metadata": {},
   "outputs": [
    {
     "name": "stdout",
     "output_type": "stream",
     "text": [
      "['dff.com']\n",
      "['gn.lol']\n"
     ]
    }
   ],
   "source": [
    "import re\n",
    "s = 'jgn  ngfkhfkhn  hfjnjf k hnfkfjgnhknfk h hkfngjnhfjkh gnfjkgf@dff.com gndfjkgnfjktn andjkadn nffn@gn.lol'\n",
    "a = re.compile(r'[ ]+')\n",
    "m = re.split(a,s)\n",
    "test = re.compile(r'[\\w+]+@([\\w+]+\\.)+[\\w+]{2,6}')\n",
    "for i in range(len(m)):\n",
    "    prov = test.match(m[i])\n",
    "    if prov:\n",
    "        l = re.findall(r'\\w+\\.\\w+',m[i])\n",
    "        f = str(l[0:])\n",
    "        print(f)\n",
    "              "
   ]
  },
  {
   "cell_type": "markdown",
   "metadata": {},
   "source": [
    "8) Проверить корректность введенного номера мобильного телефона. Корректными считаются: <br>\n",
    "+7(999)999-99-99  <br>\n",
    "+7 (999) 999-99-99  <br>\n",
    "+7 999 999-99-99 <br>\n",
    "+7 999 999 99 99 <br>\n",
    "+79999999999"
   ]
  },
  {
   "cell_type": "code",
   "execution_count": 193,
   "metadata": {},
   "outputs": [
    {
     "name": "stdout",
     "output_type": "stream",
     "text": [
      "True\n",
      "True\n",
      "False\n"
     ]
    }
   ],
   "source": [
    "def tm(s):\n",
    "    import re\n",
    "    a = re.compile(r'^\\+?\\w{1}[ ]?\\(?\\d{3}\\)?[ ]?\\d{3}[- ]?\\d{2}[- ]?\\d{2}$')\n",
    "    return re.match(a,s) != None\n",
    "print(tm('+7(999)999-99-99'))\n",
    "print(tm('+7(999) 999-99-99'))\n",
    "print(tm('+79fd99999-99-99'))"
   ]
  }
 ],
 "metadata": {
  "kernelspec": {
   "display_name": "Python 3",
   "language": "python",
   "name": "python3"
  },
  "language_info": {
   "codemirror_mode": {
    "name": "ipython",
    "version": 3
   },
   "file_extension": ".py",
   "mimetype": "text/x-python",
   "name": "python",
   "nbconvert_exporter": "python",
   "pygments_lexer": "ipython3",
   "version": "3.8.3"
  }
 },
 "nbformat": 4,
 "nbformat_minor": 2
}
